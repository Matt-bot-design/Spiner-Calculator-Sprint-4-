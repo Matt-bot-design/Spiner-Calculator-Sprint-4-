{
 "cells": [
  {
   "cell_type": "code",
   "execution_count": 6,
   "metadata": {},
   "outputs": [
    {
     "name": "stdout",
     "output_type": "stream",
     "text": [
      "Select Operation:\n",
      "\n",
      "Addition\n",
      "\n",
      "Subtraction\n",
      "\n",
      "Multiplication\n",
      "\n",
      "Division\n",
      "Enter Operation: +| - | * | / /\n",
      "Enter First Number: 100\n",
      "Enter Second Number: 50\n",
      "100.0 + 50.0 = 2.0\n"
     ]
    }
   ],
   "source": [
    "def addition(x,y):\n",
    "    return x + y\n",
    "\n",
    "def subtraction(x,y):\n",
    "    return x - y\n",
    "\n",
    "def multiplication(x,y):\n",
    "    return x * y\n",
    "\n",
    "def division(x,y):\n",
    "    return x / y\n",
    "\n",
    "print('Select Operation:')\n",
    "print('\\nAddition')\n",
    "print('\\nSubtraction')\n",
    "print('\\nMultiplication')\n",
    "print('\\nDivision')\n",
    "\n",
    "operation = input('Enter Operation: +| - | * | / ')\n",
    "num1 = float(input('Enter First Number: '))\n",
    "num2 = float(input('Enter Second Number: '))\n",
    "\n",
    "if operation == '+':\n",
    "    print(num1, '+', num2, '=', addition(num1,num2))\n",
    "elif operation == '-':\n",
    "    print(num1, '-', num2, '=', subtraction(num1,num2))\n",
    "elif operation == '*':\n",
    "    print(num1, '+', num2, '=', multiplication(num1,num2))\n",
    "elif operation == '/':\n",
    "    print(num1, '+', num2, '=', division(num1,num2))\n",
    "else:\n",
    "    print(\"Invalid Input!!!\")"
   ]
  },
  {
   "cell_type": "code",
   "execution_count": 7,
   "metadata": {},
   "outputs": [
    {
     "name": "stdout",
     "output_type": "stream",
     "text": [
      "Select Operation:\n",
      "\n",
      "Addition\n",
      "\n",
      "Subtraction\n",
      "\n",
      "Multiplication\n",
      "\n",
      "Division\n",
      "\n",
      "Enter Operation: +| - | * | / -\n",
      "Enter First Number: 21\n",
      "Enter Second Number: 21\n",
      "21.0 - 21.0 = 0.0\n"
     ]
    }
   ],
   "source": [
    "def addition(x,y):\n",
    "    return x + y\n",
    "\n",
    "def subtraction(x,y):\n",
    "    return x - y\n",
    "\n",
    "def multiplication(x,y):\n",
    "    return x * y\n",
    "\n",
    "def division(x,y):\n",
    "    return x / y\n",
    "\n",
    "print('Select Operation:')\n",
    "print('\\nAddition')\n",
    "print('\\nSubtraction')\n",
    "print('\\nMultiplication')\n",
    "print('\\nDivision')\n",
    "\n",
    "operation = input('\\nEnter Operation: +| - | * | / ')\n",
    "num1 = float(input('Enter First Number: '))\n",
    "num2 = float(input('Enter Second Number: '))\n",
    "\n",
    "if operation == '+':\n",
    "    print(num1, '+', num2, '=', addition(num1,num2))\n",
    "elif operation == '-':\n",
    "    print(num1, '-', num2, '=', subtraction(num1,num2))\n",
    "elif operation == '*':\n",
    "    print(num1, '+', num2, '=', multiplication(num1,num2))\n",
    "elif operation == '/':\n",
    "    print(num1, '+', num2, '=', division(num1,num2))\n",
    "else:\n",
    "    print(\"Invalid Input!!!\")"
   ]
  },
  {
   "cell_type": "code",
   "execution_count": null,
   "metadata": {},
   "outputs": [],
   "source": []
  }
 ],
 "metadata": {
  "kernelspec": {
   "display_name": "Python 3",
   "language": "python",
   "name": "python3"
  },
  "language_info": {
   "codemirror_mode": {
    "name": "ipython",
    "version": 3
   },
   "file_extension": ".py",
   "mimetype": "text/x-python",
   "name": "python",
   "nbconvert_exporter": "python",
   "pygments_lexer": "ipython3",
   "version": "3.7.6"
  }
 },
 "nbformat": 4,
 "nbformat_minor": 4
}
